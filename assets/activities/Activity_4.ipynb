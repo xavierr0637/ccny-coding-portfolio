{
  "cells": [
    {
      "cell_type": "code",
      "source": [
        "def intro():\n",
        "  print(\"I can't believe I made it to the NBA\")\n",
        "  print(\"This is a dream come true\")\n",
        "  print(\" I want to get in the gym right now\")\n",
        "  print(\"However my family wants to celebrate\")\n",
        "  print(\"1. Do you practice?\")\n",
        "  print(\"2. Celebrate with your family\")\n",
        "\n",
        "  choice = input(\"Enter 1 or 2:\")\n",
        "  if choice == \"1\":\n",
        "    practice()\n",
        "  elif choice == \"2\":\n",
        "    celebrate()\n",
        "  else:\n",
        "    print(\"Invalid input\")\n",
        "    intro()\n",
        "\n",
        "def practice():\n",
        "  print(\"I'm going to get up shots immeditley\")\n",
        "  print(\"Kobe Bryant walks in and offers to play 1 on 1\")\n",
        "  print(\"1. Do you play 1 on 1?\")\n",
        "  print(\"2. Do you get nervous and decline?\")\n",
        "\n",
        "  choice = input(\"Enter 1 or 2:\")\n",
        "  if choice == \"1\":\n",
        "    play()\n",
        "  elif choice == \"2\":\n",
        "    decline()\n",
        "  else:\n",
        "    print(\"Invalid input\")\n",
        "    practice()\n",
        "\n",
        "def celebrate():\n",
        "  print(\"I'm going to celebrate with my family\")\n",
        "  print(\"There's liqour and wine everywhere\")\n",
        "  print(\"1. Do you drink?\")\n",
        "  print(\"2. Do you not drink?\")\n",
        "\n",
        "  choice = input(\"Enter 1 or 2:\")\n",
        "  if choice == \"1\":\n",
        "    drink()\n",
        "  elif choice == \"2\":\n",
        "    not_drink()\n",
        "  else:\n",
        "    print(\"Invalid input\")\n",
        "    celebrate()\n",
        "\n",
        "def play():\n",
        "  print(\"I'm going to play 1 on 1 with Kobe Bryant\")\n",
        "  print(\"You and Kobe have an intense battle\")\n",
        "  print(\"You beat Kobe 1 on 1 and earn his respect\")\n",
        "\n",
        "def decline():\n",
        "  print(\"I'm going to decline and not play 1 on 1 with Kobe Bryant\")\n",
        "  print(\"Kobe feels offended by this and walks away\")\n",
        "  print(\"The next time you play Kobe he scores 50\")\n",
        "\n",
        "  #celebrate\n",
        "\n",
        "def not_drink():\n",
        "  print(\"I'm not going to drink\")\n",
        "  print(\"Your family respects it and continues to celebrate\")\n",
        "\n",
        "def drink():\n",
        "  print(\"I'm going to drink\")\n",
        "  print(\"There's liqour and wine everywhere\")\n",
        "  print(\"Someone records and the NBA sees\")\n",
        "  print(\"You get fined and penalized for underage drinking\")\n",
        "\n",
        "  #start the game\n",
        "  intro()\n",
        "\n"
      ],
      "metadata": {
        "id": "bPw5U5Bc9mc1"
      },
      "execution_count": null,
      "outputs": []
    },
    {
      "cell_type": "code",
      "source": [
        "#start the game"
      ],
      "metadata": {
        "id": "ilXEL40PF1lH"
      },
      "execution_count": null,
      "outputs": []
    }
  ],
  "metadata": {
    "colab": {
      "provenance": []
    },
    "kernelspec": {
      "display_name": "Python 3",
      "name": "python3"
    }
  },
  "nbformat": 4,
  "nbformat_minor": 0
}