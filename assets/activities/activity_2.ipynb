{
  "cells": [
    {
      "cell_type": "markdown",
      "id": "26550237-15cd-45e2-81e1-556bad05a917",
      "metadata": {
        "id": "26550237-15cd-45e2-81e1-556bad05a917"
      },
      "source": [
        "# Activity 2: Python Primer on Lists, For Loops, and Functions"
      ]
    },
    {
      "cell_type": "markdown",
      "id": "4765796a-69ae-4a80-9529-2843912df581",
      "metadata": {
        "id": "4765796a-69ae-4a80-9529-2843912df581"
      },
      "source": [
        "For this activity, we will be familiarizing ourselves with lists, for loops, and creating our own simple functions.\n",
        "\n",
        "Please make sure you open this file in Jupyter Notebook or Google Colab. You will have to either open Jupyter Notebook first or upload the file to Google Colab before being able to edit the file.\n",
        "\n",
        "Please make sure you **print your output.** You may need to use ```print``` for your output to be displayed.\n",
        "\n",
        "-----\n",
        "## Submission Instructions\n",
        "1. Upload the completed activity to the \"Activities\" folder of your GitHub Portfolio;\n",
        "2. Ensure your submission consists of two files: <br/>(a) one single-page reflection in markdown (e.g. `a2_reflection.md`);  <br/>(b) one Jupyter notebook with completed responses to each activity step (e.g. `a2_primer.ipynb`)."
      ]
    },
    {
      "cell_type": "code",
      "source": [
        "from google.colab import drive\n",
        "drive.mount('/content/drive')"
      ],
      "metadata": {
        "id": "3CM1OTiviaoR"
      },
      "id": "3CM1OTiviaoR",
      "execution_count": null,
      "outputs": []
    },
    {
      "cell_type": "markdown",
      "id": "8749ea10-27e1-4210-b638-abe62a45f609",
      "metadata": {
        "id": "8749ea10-27e1-4210-b638-abe62a45f609"
      },
      "source": [
        "1. Run the code in the cell below and explain why the error occured. Then, fix the error so that the code will run successfully."
      ]
    },
    {
      "cell_type": "code",
      "execution_count": 1,
      "id": "51a02251-4a93-4eb2-9882-69d49c5a3227",
      "metadata": {
        "scrolled": true,
        "id": "51a02251-4a93-4eb2-9882-69d49c5a3227",
        "outputId": "3ecf6b2a-e800-417a-cde7-ac8ea50ed42f",
        "colab": {
          "base_uri": "https://localhost:8080/"
        }
      },
      "outputs": [
        {
          "output_type": "stream",
          "name": "stdout",
          "text": [
            "['Mary Gallagher', 'John Sanin(?)', 'Anthony Clark', 'Margaret Farrell']\n"
          ]
        }
      ],
      "source": [
        "names = ['Mary Gallagher', 'John Sanin(?)', 'Anthony Clark', 'Margaret Farrell']\n",
        "\n",
        "print(names)"
      ]
    },
    {
      "cell_type": "markdown",
      "id": "a40ee643-dbe8-4059-8953-95c11f938235",
      "metadata": {
        "jp-MarkdownHeadingCollapsed": true,
        "id": "a40ee643-dbe8-4059-8953-95c11f938235"
      },
      "source": [
        "The thing that was wrong is that there wasn't any qotation marks with the names."
      ]
    },
    {
      "cell_type": "markdown",
      "id": "1dc86a86-51b2-4bcf-8ad4-18901364e363",
      "metadata": {
        "id": "1dc86a86-51b2-4bcf-8ad4-18901364e363"
      },
      "source": [
        "-----"
      ]
    },
    {
      "cell_type": "markdown",
      "id": "4769c8e1-a906-4f5d-9b34-0ab30e613d81",
      "metadata": {
        "id": "4769c8e1-a906-4f5d-9b34-0ab30e613d81"
      },
      "source": [
        "## Lists and for loops\n",
        "\n",
        "Use the lists below to solve the following exercise questions. Make sure you run this cell before you begin with the activity or you will run into errors."
      ]
    },
    {
      "cell_type": "code",
      "execution_count": null,
      "id": "187b66da-d140-4aac-aa79-26ed86feec5e",
      "metadata": {
        "id": "187b66da-d140-4aac-aa79-26ed86feec5e"
      },
      "outputs": [],
      "source": [
        "professions = ['married', 'laborer', 'widow', 'widow', 'laborer' ]\n",
        "gender = ['woman', 'man', 'woman', 'woman', 'man']\n",
        "longlist_professions = ['married', 'married', 'laborer', 'laborer', 'widow', 'married', 'spinster',\n",
        "                     'laborer', 'spinster', 'laborer', 'spinster', 'spinster', 'married', 'laborer',\n",
        "                     'laborer', 'spinster', 'laborer', 'laborer', 'laborer', 'laborer', 'laborer', 'spinster',\n",
        "                     'laborer', 'spinster', 'widow', 'spinster', 'painter', 'laborer', 'weaver', 'laborer']"
      ]
    },
    {
      "cell_type": "markdown",
      "id": "1dd42939-8b33-40be-9633-877c4142dcdb",
      "metadata": {
        "id": "1dd42939-8b33-40be-9633-877c4142dcdb"
      },
      "source": [
        "2. Extract the second item in the list ```professions```.\n",
        "    \n",
        "   **Hint**: Python begins indexing from '0.' The first item, 'married,' is position [0]."
      ]
    },
    {
      "cell_type": "code",
      "execution_count": 2,
      "id": "a3afd56e-4d46-4d01-be8b-a65380a1f681",
      "metadata": {
        "id": "a3afd56e-4d46-4d01-be8b-a65380a1f681",
        "outputId": "b4b67534-f206-4a08-a4bb-beef960e7472",
        "colab": {
          "base_uri": "https://localhost:8080/"
        }
      },
      "outputs": [
        {
          "output_type": "stream",
          "name": "stdout",
          "text": [
            "laborer\n"
          ]
        }
      ],
      "source": [
        "professions = ['married', 'laborer', 'widow', 'widow', 'laborer' ]\n",
        "second_item = professions[1]\n",
        "print(second_item)"
      ]
    },
    {
      "cell_type": "markdown",
      "id": "141f7b97-6853-4382-9bca-12be87c446b3",
      "metadata": {
        "id": "141f7b97-6853-4382-9bca-12be87c446b3"
      },
      "source": [
        "3. Make a **for loop** that considers each item in the ```professions``` list and prints “Person’s profession is ___.”   "
      ]
    },
    {
      "cell_type": "code",
      "execution_count": 4,
      "id": "dd3bfc48-6d07-481f-9100-001adf4848a7",
      "metadata": {
        "id": "dd3bfc48-6d07-481f-9100-001adf4848a7",
        "outputId": "fe60711f-2179-46fe-c901-b652dd8d9fcd",
        "colab": {
          "base_uri": "https://localhost:8080/"
        }
      },
      "outputs": [
        {
          "output_type": "stream",
          "name": "stdout",
          "text": [
            "Person's profession is married.\n",
            "Person's profession is laborer.\n",
            "Person's profession is widow.\n",
            "Person's profession is widow.\n",
            "Person's profession is laborer.\n"
          ]
        }
      ],
      "source": [
        "professions = ['married', 'laborer', 'widow', 'widow', 'laborer' ]\n",
        "for profession in professions:\n",
        "    print(f\"Person's profession is {profession}.\")"
      ]
    },
    {
      "cell_type": "markdown",
      "id": "37658740-c9ca-465f-a3d0-a33da65ecb91",
      "metadata": {
        "id": "37658740-c9ca-465f-a3d0-a33da65ecb91"
      },
      "source": [
        "4. Using a **list method**, add an item to the list ```gender``` called “not known”"
      ]
    },
    {
      "cell_type": "code",
      "execution_count": 5,
      "id": "a3b3b700-8339-49c2-9ca1-f35858f86e7e",
      "metadata": {
        "id": "a3b3b700-8339-49c2-9ca1-f35858f86e7e",
        "outputId": "38e6ffd3-eea5-4799-b1b2-007d3a02658b",
        "colab": {
          "base_uri": "https://localhost:8080/"
        }
      },
      "outputs": [
        {
          "output_type": "stream",
          "name": "stdout",
          "text": [
            "['woman', 'man', 'woman', 'woman', 'man', 'not known']\n"
          ]
        }
      ],
      "source": [
        "gender = ['woman', 'man', 'woman', 'woman', 'man']\n",
        "gender.append('not known')\n",
        "print(gender)"
      ]
    },
    {
      "cell_type": "markdown",
      "id": "8b2269c7-c46c-44bb-8333-1d8ba9022a61",
      "metadata": {
        "id": "8b2269c7-c46c-44bb-8333-1d8ba9022a61"
      },
      "source": [
        "5. Make a **for loop** that considers each item in the ```gender``` list and prints “Person identifies as a man” if the person is registered as a man, “Person identifies as a woman” if the person registered as a woman, and “Person’s gender is not known” if person's gender is unknown."
      ]
    },
    {
      "cell_type": "code",
      "execution_count": 6,
      "id": "a224a0e4-0e56-40f9-aa41-094882deb499",
      "metadata": {
        "id": "a224a0e4-0e56-40f9-aa41-094882deb499",
        "outputId": "a7a389d7-c4a5-4a6e-b047-077fef808d52",
        "colab": {
          "base_uri": "https://localhost:8080/"
        }
      },
      "outputs": [
        {
          "output_type": "stream",
          "name": "stdout",
          "text": [
            "Person identifies as a woman\n",
            "Person identifies as a man\n",
            "Person identifies as a woman\n",
            "Person identifies as a woman\n",
            "Person identifies as a man\n"
          ]
        }
      ],
      "source": [
        "gender = ['woman', 'man', 'woman', 'woman', 'man']\n",
        "for g in gender:\n",
        "    if g == 'man':\n",
        "        print(\"Person identifies as a man\")\n",
        "    elif g == 'woman':\n",
        "        print(\"Person identifies as a woman\")"
      ]
    },
    {
      "cell_type": "markdown",
      "id": "43584358-9a8f-45a5-8383-5bf823d8c9be",
      "metadata": {
        "id": "43584358-9a8f-45a5-8383-5bf823d8c9be"
      },
      "source": [
        "6. Build a **new list** called ```spinster_list``` that includes only the items in the list ```longlist_professions``` that matches ```spinster```.\n",
        "\n",
        "   **Hint**: You will need to create an empty list variable before sorting the list with a for loop."
      ]
    },
    {
      "cell_type": "code",
      "execution_count": 9,
      "id": "6fffb099-3bb0-47d9-a75b-d5255d89ab7a",
      "metadata": {
        "id": "6fffb099-3bb0-47d9-a75b-d5255d89ab7a",
        "outputId": "71a54b53-0da5-47bf-cf52-719b3a695f1e",
        "colab": {
          "base_uri": "https://localhost:8080/"
        }
      },
      "outputs": [
        {
          "output_type": "stream",
          "name": "stdout",
          "text": [
            "['spinster', 'spinster', 'spinster', 'spinster']\n"
          ]
        }
      ],
      "source": [
        "longlist_professions =[\n",
        "    'married', 'married', 'laborer', 'laborer', 'widow', 'married', 'spinster',\n",
        "    'laborer', 'spinster', 'laborer', 'spinster', 'spinster', 'married', 'laborer',\n",
        "]\n",
        "spinster_list = []\n",
        "for profession in longlist_professions:\n",
        "    if profession == 'spinster':\n",
        "        spinster_list.append(profession)\n",
        "print(spinster_list)"
      ]
    },
    {
      "cell_type": "markdown",
      "id": "7ff8bfcd-4573-43a4-b58c-fb6d48516720",
      "metadata": {
        "id": "7ff8bfcd-4573-43a4-b58c-fb6d48516720"
      },
      "source": [
        "7. Find the most and least common professions in the list ```longlist_professions```.   \n",
        "   Run the cell below to import the ```Counter``` module and use the appropriate method.\n",
        "\n",
        "   **Hint**: You will need to create a variable for the results of the Counter function before running the method.   \n",
        "   **Hint 2**: Check your spelling. Python is case-sensitive, and the function for Counter begins with a capital C."
      ]
    },
    {
      "cell_type": "code",
      "execution_count": 27,
      "id": "56a1e1aa-7fb3-497c-8055-bd1a5deca2f7",
      "metadata": {
        "id": "56a1e1aa-7fb3-497c-8055-bd1a5deca2f7"
      },
      "outputs": [],
      "source": [
        "from collections import Counter"
      ]
    },
    {
      "cell_type": "code",
      "execution_count": 28,
      "id": "24cb60c3-0014-4cca-b4cc-17ce4916a8fc",
      "metadata": {
        "id": "24cb60c3-0014-4cca-b4cc-17ce4916a8fc",
        "outputId": "d4d36647-ae12-43c6-bcf4-6e70e75ffad9",
        "colab": {
          "base_uri": "https://localhost:8080/"
        }
      },
      "outputs": [
        {
          "output_type": "stream",
          "name": "stdout",
          "text": [
            "The most common profession is [('laborer', 11)] and the least common profession is ('weaver', 1).\n"
          ]
        }
      ],
      "source": [
        "longlist_professions = [\n",
        "    'married', 'married', 'laborer', 'laborer', 'widow', 'married', 'spinster',\n",
        "    'laborer', 'spinster', 'laborer', 'spinster', 'spinster', 'married', 'laborer'\n",
        "    'laborer', 'spinster', 'laborer', 'laborer', 'laborer', 'laborer', 'spinster',\n",
        "    'laborer', 'spinster', 'widow', 'spinster', 'painter', 'laborer', 'weaver', 'laborer']\n",
        "\n",
        "counter = Counter(longlist_professions)\n",
        "most_common = counter.most_common(1)\n",
        "least_common = counter.most_common()[-1]\n",
        "print(f\"The most common profession is {most_common} and the least common profession is {least_common}.\")\n"
      ]
    },
    {
      "cell_type": "markdown",
      "id": "28996519-910f-40d7-a909-8643839645d7",
      "metadata": {
        "id": "28996519-910f-40d7-a909-8643839645d7"
      },
      "source": [
        "8. Run the code below and explain why the error occurred. Then, fix the error so that the code can run as intended.\n",
        "   \n",
        "    **Hint**: There are 2 errors in the code below"
      ]
    },
    {
      "cell_type": "code",
      "execution_count": 42,
      "id": "bc1afbb3-0540-4481-abfb-55224e5d941d",
      "metadata": {
        "id": "bc1afbb3-0540-4481-abfb-55224e5d941d",
        "outputId": "11a342b2-d539-4b9a-af37-caf4c65c2cc2",
        "colab": {
          "base_uri": "https://localhost:8080/"
        }
      },
      "outputs": [
        {
          "output_type": "stream",
          "name": "stdout",
          "text": [
            "Wow, women were limited to their marital status, such as married.\n",
            "Wow, women were limited to their marital status, such as married.\n",
            "laborer\n",
            "Wow, women were limited to their marital status, such as widow.\n",
            "Wow, women were limited to their marital status, such as widow.\n",
            "Wow, women were limited to their marital status, such as widow.\n",
            "Wow, women were limited to their marital status, such as widow.\n",
            "laborer\n"
          ]
        }
      ],
      "source": [
        "for job in professions:\n",
        "    if job == \"laborer\":\n",
        "        print(job)\n",
        "    else:\n",
        "        print(f\"Wow, women were limited to their marital status, such as {job}.\")\n",
        "        print(f\"Wow, women were limited to their marital status, such as {job}.\")"
      ]
    },
    {
      "cell_type": "markdown",
      "id": "bce21100-5448-454f-990b-ea7aaba6c699",
      "metadata": {
        "id": "bce21100-5448-454f-990b-ea7aaba6c699"
      },
      "source": [
        "***Double click on this cell and explain your answer here.***\n",
        "\n",
        "There was a missing colon that needed to be added.\n"
      ]
    },
    {
      "cell_type": "markdown",
      "id": "30b9934a-80f7-495e-bcb8-3210c57ce3a7",
      "metadata": {
        "id": "30b9934a-80f7-495e-bcb8-3210c57ce3a7"
      },
      "source": [
        "-----"
      ]
    },
    {
      "cell_type": "markdown",
      "id": "b24b58ce-3f90-4b1a-96b1-00b1b14385d7",
      "metadata": {
        "id": "b24b58ce-3f90-4b1a-96b1-00b1b14385d7"
      },
      "source": [
        "## Defining functions"
      ]
    },
    {
      "cell_type": "markdown",
      "id": "7e04fc1a-4956-4f0e-a90b-c5b2e1f66199",
      "metadata": {
        "id": "7e04fc1a-4956-4f0e-a90b-c5b2e1f66199"
      },
      "source": [
        "9. Make a function called ```hello``` that greets the user with \"Hello {person}! Have a good day ahead.\" Test your function to make sure it runs as intended.   \n",
        "\n",
        "    **Hint**: You will need one parameter in the function."
      ]
    },
    {
      "cell_type": "code",
      "execution_count": null,
      "id": "ec379944",
      "metadata": {
        "id": "ec379944"
      },
      "outputs": [],
      "source": [
        "def hello(#your code here):\n",
        "    #Your code here\n",
        "    return"
      ]
    },
    {
      "cell_type": "code",
      "execution_count": 44,
      "id": "ed90ad4c-f262-431f-992a-7feceb1df3d5",
      "metadata": {
        "id": "ed90ad4c-f262-431f-992a-7feceb1df3d5",
        "outputId": "327eba48-8754-4839-fde4-93a928803370",
        "colab": {
          "base_uri": "https://localhost:8080/"
        }
      },
      "outputs": [
        {
          "output_type": "stream",
          "name": "stdout",
          "text": [
            "Hello John! Have a good day ahead.\n"
          ]
        }
      ],
      "source": [
        "def hello(person):\n",
        "    return f\"Hello {person}! Have a good day ahead.\"\n",
        "print(hello(\"John\"))\n",
        ""
      ]
    },
    {
      "cell_type": "markdown",
      "id": "68a966cb-b4d8-4d96-8056-549271f1f688",
      "metadata": {
        "id": "68a966cb-b4d8-4d96-8056-549271f1f688"
      },
      "source": [
        "10. Make a function called ```sum_of_3``` that allows the user to add 3 numbers. Test your function to make sure it runs as intended.   \n",
        "    *Level-up challenge*: Use a default argument to prevent code failing if the user has less than 3 input."
      ]
    },
    {
      "cell_type": "code",
      "execution_count": 45,
      "id": "1ea1a2e4-7148-4d82-9e0a-7691f3bfae85",
      "metadata": {
        "id": "1ea1a2e4-7148-4d82-9e0a-7691f3bfae85",
        "outputId": "99ad6f9e-27d5-4124-e6ec-1ebd6f35df5d",
        "colab": {
          "base_uri": "https://localhost:8080/"
        }
      },
      "outputs": [
        {
          "output_type": "stream",
          "name": "stdout",
          "text": [
            "20\n",
            "11\n"
          ]
        }
      ],
      "source": [
        "def sum_of_3(a=0, b=0, c=0):\n",
        "    return a + b + c\n",
        "print(sum_of_3(4, 7, 9))\n",
        "print(sum_of_3(4, 7))"
      ]
    },
    {
      "cell_type": "code",
      "execution_count": null,
      "id": "804036ca-f079-4124-adad-56d28fb2168a",
      "metadata": {
        "id": "804036ca-f079-4124-adad-56d28fb2168a"
      },
      "outputs": [],
      "source": []
    },
    {
      "cell_type": "markdown",
      "id": "9910590b-f2b0-4c97-b40f-906788a4e479",
      "metadata": {
        "id": "9910590b-f2b0-4c97-b40f-906788a4e479"
      },
      "source": [
        "11. Make a function called ```fahrenheit_to_celsius``` that converts the temperature in fahrenheit to celsius. Call your function to test that it runs as intended.\n",
        "\n",
        "    **Hint**: The formula for converting the temperature is (Temperature in Fahrenheit - 32) * 5/9."
      ]
    },
    {
      "cell_type": "code",
      "execution_count": 47,
      "id": "f6a5ff9e-96e2-4a3b-b80d-8d8b5c4b5382",
      "metadata": {
        "id": "f6a5ff9e-96e2-4a3b-b80d-8d8b5c4b5382",
        "outputId": "07b72f3d-2b7a-4600-9680-b98951a7deec",
        "colab": {
          "base_uri": "https://localhost:8080/"
        }
      },
      "outputs": [
        {
          "output_type": "stream",
          "name": "stdout",
          "text": [
            "25.555555555555557\n"
          ]
        }
      ],
      "source": [
        "def fahrenheit_to_celsius(fahrenheit):\n",
        "    celsius = (fahrenheit - 32) * 5/9\n",
        "    return celsius\n",
        "print(fahrenheit_to_celsius(78))"
      ]
    },
    {
      "cell_type": "code",
      "execution_count": null,
      "id": "d0829074-f2fe-452f-b6ec-7ef7cb91068f",
      "metadata": {
        "id": "d0829074-f2fe-452f-b6ec-7ef7cb91068f"
      },
      "outputs": [],
      "source": []
    },
    {
      "cell_type": "markdown",
      "id": "2721385e-5112-4bd0-a3da-deb1f793405a",
      "metadata": {
        "id": "2721385e-5112-4bd0-a3da-deb1f793405a"
      },
      "source": [
        "-----"
      ]
    },
    {
      "cell_type": "markdown",
      "id": "95ee26ad-cefa-4f9e-9e9f-6a635fb8900a",
      "metadata": {
        "id": "95ee26ad-cefa-4f9e-9e9f-6a635fb8900a"
      },
      "source": [
        "## Side quest challenge\n",
        "\n",
        "The side quest challenge is for extra credit. You can still get full credit for this activity even if you do not complete this challenge."
      ]
    },
    {
      "cell_type": "markdown",
      "id": "7699e2e7-deb7-411a-907b-e0b6760d3e14",
      "metadata": {
        "id": "7699e2e7-deb7-411a-907b-e0b6760d3e14"
      },
      "source": [
        "1. Use **list comprehension** to build a new list for the most common profession in ```longlist_professions```."
      ]
    },
    {
      "cell_type": "code",
      "execution_count": null,
      "id": "f2f16094-80b6-4767-ba8e-a6b0784a63b6",
      "metadata": {
        "id": "f2f16094-80b6-4767-ba8e-a6b0784a63b6"
      },
      "outputs": [],
      "source": [
        "most_common = #your code here"
      ]
    },
    {
      "cell_type": "markdown",
      "id": "8a7e104a",
      "metadata": {
        "id": "8a7e104a"
      },
      "source": [
        "2. Make a function called ```budget_expenses``` that calculates the estimated budget for a trip to NYC. You will need the following parameters:\n",
        "- ```plane_ticket_price```\n",
        "- ```hotel_rate_per_day```\n",
        "- ```duration_of_trip```\n",
        "- ```subway_per_trip = 2.90```\n",
        "\n",
        "   After making your function, call the function with the following values: ```plane_ticket_price```: 450, ```hotel_rate_per_day```: 120, ```duration_of_trip```: 5.\n",
        "\n",
        "  **Hint**: Remember to calculate the total price of your hotel stay and round-trip subway cost for the entire duration of the trip"
      ]
    },
    {
      "cell_type": "code",
      "execution_count": null,
      "id": "47caa9f4",
      "metadata": {
        "id": "47caa9f4"
      },
      "outputs": [],
      "source": []
    },
    {
      "cell_type": "code",
      "execution_count": null,
      "id": "d40de7a7",
      "metadata": {
        "id": "d40de7a7"
      },
      "outputs": [],
      "source": []
    },
    {
      "cell_type": "markdown",
      "id": "103923a6-7ed7-479a-bf4f-c4647ea66d8c",
      "metadata": {
        "id": "103923a6-7ed7-479a-bf4f-c4647ea66d8c"
      },
      "source": [
        "-----"
      ]
    },
    {
      "cell_type": "markdown",
      "id": "be569abf-123b-4ef6-be2d-28914def95a1",
      "metadata": {
        "id": "be569abf-123b-4ef6-be2d-28914def95a1"
      },
      "source": [
        "Some of the exercise questions are adapted from Melanie Walsh's *Introduction to Cultural Analytics & Python*."
      ]
    }
  ],
  "metadata": {
    "kernelspec": {
      "display_name": "Python 3 (ipykernel)",
      "language": "python",
      "name": "python3"
    },
    "language_info": {
      "codemirror_mode": {
        "name": "ipython",
        "version": 3
      },
      "file_extension": ".py",
      "mimetype": "text/x-python",
      "name": "python",
      "nbconvert_exporter": "python",
      "pygments_lexer": "ipython3",
      "version": "3.11.5"
    },
    "colab": {
      "provenance": []
    }
  },
  "nbformat": 4,
  "nbformat_minor": 5
}